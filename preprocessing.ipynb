{
 "cells": [
  {
   "cell_type": "markdown",
   "metadata": {
    "_cell_guid": "b1076dfc-b9ad-4769-8c92-a6c4dae69d19",
    "_uuid": "8f2839f25d086af736a60e9eeb907d3b93b6e0e5"
   },
   "source": [
    "# Applying YOLOv5s for Traffic Sign Recognition - Data Preprocessor"
   ]
  },
  {
   "cell_type": "markdown",
   "metadata": {},
   "source": [
    "This is the code used for basic data preprocessing: resolving the class imbalance issue and saving everything in the format supported by YOLO"
   ]
  },
  {
   "cell_type": "markdown",
   "metadata": {},
   "source": [
    "## 0. Preparation"
   ]
  },
  {
   "cell_type": "code",
   "execution_count": 1,
   "metadata": {},
   "outputs": [],
   "source": [
    "import os\n",
    "import pandas as pd\n",
    "import cv2\n",
    "from sklearn.model_selection import train_test_split\n",
    "import matplotlib.pyplot as plt\n",
    "import seaborn as sns\n",
    "import numpy as np\n",
    "from imblearn.over_sampling import RandomOverSampler"
   ]
  },
  {
   "cell_type": "code",
   "execution_count": 2,
   "metadata": {},
   "outputs": [
    {
     "data": {
      "text/html": [
       "<div>\n",
       "<style scoped>\n",
       "    .dataframe tbody tr th:only-of-type {\n",
       "        vertical-align: middle;\n",
       "    }\n",
       "\n",
       "    .dataframe tbody tr th {\n",
       "        vertical-align: top;\n",
       "    }\n",
       "\n",
       "    .dataframe thead th {\n",
       "        text-align: right;\n",
       "    }\n",
       "</style>\n",
       "<table border=\"1\" class=\"dataframe\">\n",
       "  <thead>\n",
       "    <tr style=\"text-align: right;\">\n",
       "      <th></th>\n",
       "      <th>Width</th>\n",
       "      <th>Height</th>\n",
       "      <th>Roi.X1</th>\n",
       "      <th>Roi.Y1</th>\n",
       "      <th>Roi.X2</th>\n",
       "      <th>Roi.Y2</th>\n",
       "      <th>ClassId</th>\n",
       "      <th>Path</th>\n",
       "    </tr>\n",
       "  </thead>\n",
       "  <tbody>\n",
       "    <tr>\n",
       "      <th>0</th>\n",
       "      <td>27</td>\n",
       "      <td>26</td>\n",
       "      <td>5</td>\n",
       "      <td>5</td>\n",
       "      <td>22</td>\n",
       "      <td>20</td>\n",
       "      <td>20</td>\n",
       "      <td>Train/20/00020_00000_00000.png</td>\n",
       "    </tr>\n",
       "    <tr>\n",
       "      <th>1</th>\n",
       "      <td>28</td>\n",
       "      <td>27</td>\n",
       "      <td>5</td>\n",
       "      <td>6</td>\n",
       "      <td>23</td>\n",
       "      <td>22</td>\n",
       "      <td>20</td>\n",
       "      <td>Train/20/00020_00000_00001.png</td>\n",
       "    </tr>\n",
       "    <tr>\n",
       "      <th>2</th>\n",
       "      <td>29</td>\n",
       "      <td>26</td>\n",
       "      <td>6</td>\n",
       "      <td>5</td>\n",
       "      <td>24</td>\n",
       "      <td>21</td>\n",
       "      <td>20</td>\n",
       "      <td>Train/20/00020_00000_00002.png</td>\n",
       "    </tr>\n",
       "    <tr>\n",
       "      <th>3</th>\n",
       "      <td>28</td>\n",
       "      <td>27</td>\n",
       "      <td>5</td>\n",
       "      <td>6</td>\n",
       "      <td>23</td>\n",
       "      <td>22</td>\n",
       "      <td>20</td>\n",
       "      <td>Train/20/00020_00000_00003.png</td>\n",
       "    </tr>\n",
       "    <tr>\n",
       "      <th>4</th>\n",
       "      <td>28</td>\n",
       "      <td>26</td>\n",
       "      <td>5</td>\n",
       "      <td>5</td>\n",
       "      <td>23</td>\n",
       "      <td>21</td>\n",
       "      <td>20</td>\n",
       "      <td>Train/20/00020_00000_00004.png</td>\n",
       "    </tr>\n",
       "  </tbody>\n",
       "</table>\n",
       "</div>"
      ],
      "text/plain": [
       "   Width  Height  Roi.X1  Roi.Y1  Roi.X2  Roi.Y2  ClassId  \\\n",
       "0     27      26       5       5      22      20       20   \n",
       "1     28      27       5       6      23      22       20   \n",
       "2     29      26       6       5      24      21       20   \n",
       "3     28      27       5       6      23      22       20   \n",
       "4     28      26       5       5      23      21       20   \n",
       "\n",
       "                             Path  \n",
       "0  Train/20/00020_00000_00000.png  \n",
       "1  Train/20/00020_00000_00001.png  \n",
       "2  Train/20/00020_00000_00002.png  \n",
       "3  Train/20/00020_00000_00003.png  \n",
       "4  Train/20/00020_00000_00004.png  "
      ]
     },
     "execution_count": 2,
     "metadata": {},
     "output_type": "execute_result"
    }
   ],
   "source": [
    "dataset_path = \"data\"\n",
    "\n",
    "# open the CSVs with annotations\n",
    "df = pd.read_csv(os.path.join(dataset_path, \"Train.csv\"))\n",
    "test_df = pd.read_csv(os.path.join(dataset_path, \"Test.csv\"))\n",
    "df.head()"
   ]
  },
  {
   "cell_type": "code",
   "execution_count": 3,
   "metadata": {},
   "outputs": [],
   "source": [
    "# split train data into train and validation (80/20), preserve the ratio of classes\n",
    "train_df, val_df = train_test_split(df, test_size=0.2, stratify=df[\"ClassId\"], random_state=42)"
   ]
  },
  {
   "cell_type": "markdown",
   "metadata": {},
   "source": [
    "## 1. Addressing class imbalance"
   ]
  },
  {
   "cell_type": "code",
   "execution_count": 4,
   "metadata": {},
   "outputs": [
    {
     "data": {
      "image/png": "[encoded data removed]",
      "text/plain": [
       "<Figure size 1200x500 with 1 Axes>"
      ]
     },
     "metadata": {},
     "output_type": "display_data"
    }
   ],
   "source": [
    "class_counts = train_df[\"ClassId\"].value_counts().sort_index()\n",
    "\n",
    "# plot class distribution\n",
    "plt.figure(figsize=(12,5))\n",
    "sns.barplot(x=class_counts.index, y=class_counts.values)\n",
    "plt.xlabel(\"Class ID\")\n",
    "plt.ylabel(\"Number of Images\")\n",
    "plt.title(\"Class Distribution in GTSRB Dataset\")\n",
    "plt.show()"
   ]
  },
  {
   "cell_type": "code",
   "execution_count": 5,
   "metadata": {},
   "outputs": [
    {
     "data": {
      "text/plain": [
       "(np.float64(276.0), np.float64(480.0), np.float64(1140.0))"
      ]
     },
     "execution_count": 5,
     "metadata": {},
     "output_type": "execute_result"
    }
   ],
   "source": [
    "# find quantiles\n",
    "Q1, Q2, Q3 = np.quantile(class_counts.values, [0.25, 0.5, 0.75])\n",
    "Q1, Q2, Q3"
   ]
  },
  {
   "cell_type": "markdown",
   "metadata": {},
   "source": [
    "This is a complicated case of class imbalance. I decided to divide classes into quantiles, not to upsample classes over Q2, upsample classes between Q1 and Q2 to (Q2 + Q3) / 2, and upsample classes under Q1 to Q2. This should provide some balance between classes while avoiding overfitting on rare cases"
   ]
  },
  {
   "cell_type": "code",
   "execution_count": 6,
   "metadata": {},
   "outputs": [],
   "source": [
    "# create a dictionary for the oversampler\n",
    "resample_dict = {}\n",
    "\n",
    "for label, count in zip(class_counts.index, class_counts.values):\n",
    "    if count >= Q2:\n",
    "        resample_dict[label] = 0\n",
    "    if count < Q2 and count >= Q1:\n",
    "        resample_dict[label] = (Q2 + Q3) // 2 - count\n",
    "    else:\n",
    "        resample_dict[label] = Q2 - count"
   ]
  },
  {
   "cell_type": "code",
   "execution_count": 7,
   "metadata": {},
   "outputs": [],
   "source": [
    "# oversample the training set\n",
    "ros = RandomOverSampler(random_state=42)\n",
    "train_df_resampled, _ = ros.fit_resample(train_df, train_df[\"ClassId\"])"
   ]
  },
  {
   "cell_type": "markdown",
   "metadata": {},
   "source": [
    "## 2. Converting to the format required by YOLO"
   ]
  },
  {
   "cell_type": "code",
   "execution_count": 8,
   "metadata": {},
   "outputs": [],
   "source": [
    "output_path = \"data-yolo\"\n",
    "\n",
    "# output folders in format required by YOLO\n",
    "os.makedirs(f\"{output_path}/images/train\", exist_ok=True)\n",
    "os.makedirs(f\"{output_path}/images/val\", exist_ok=True)\n",
    "os.makedirs(f\"{output_path}/images/test\", exist_ok=True)\n",
    "os.makedirs(f\"{output_path}/labels/train\", exist_ok=True)\n",
    "os.makedirs(f\"{output_path}/labels/val\", exist_ok=True)\n",
    "os.makedirs(f\"{output_path}/labels/test\", exist_ok=True)"
   ]
  },
  {
   "cell_type": "code",
   "execution_count": 9,
   "metadata": {},
   "outputs": [],
   "source": [
    "# to save oversampled images correctly, duplicate files need to be named differently\n",
    "duplicate_counts = {}"
   ]
  },
  {
   "cell_type": "code",
   "execution_count": 10,
   "metadata": {},
   "outputs": [],
   "source": [
    "# function for converting a dataset to YOLO format\n",
    "def convert_to_yolo(df, split):\n",
    "    # iterate through the rows of the dataset\n",
    "    for _, row in df.iterrows():\n",
    "        # read the image from the path\n",
    "        img_path = os.path.join(dataset_path, row[\"Path\"])\n",
    "        img = cv2.imread(img_path)\n",
    "        h, w = img.shape[:2]\n",
    "\n",
    "        # normalize bounding box (required by YOLO)\n",
    "        x_center = (row[\"Roi.X1\"] + row[\"Roi.X2\"]) / (2 * w)\n",
    "        y_center = (row[\"Roi.Y1\"] + row[\"Roi.Y2\"]) / (2 * h)\n",
    "        bbox_width = (row[\"Roi.X2\"] - row[\"Roi.X1\"]) / w\n",
    "        bbox_height = (row[\"Roi.Y2\"] - row[\"Roi.Y1\"]) / h\n",
    "\n",
    "        # get the original file name from path\n",
    "        if split == \"train\" or split == \"val\":\n",
    "            img_file_name = row[\"Path\"].replace(\"Train/\", \"\")\n",
    "            img_file_name = img_file_name[img_file_name.find(\"/\") + 1:]\n",
    "        else:\n",
    "            img_file_name = row[\"Path\"].replace(\"Test/\", \"\")\n",
    "\n",
    "        # handle duplicates - modify the name if necessary\n",
    "        if img_file_name in duplicate_counts:\n",
    "            duplicate_counts[img_file_name] += 1\n",
    "            img_file_name = f\"{img_file_name.replace('.png', '')}_copy{duplicate_counts[img_file_name]}.png\"\n",
    "        else:\n",
    "            duplicate_counts[img_file_name] = 0\n",
    "        \n",
    "        # save the image\n",
    "        dest_img_path = f\"{output_path}/images/{split}/{img_file_name}\"\n",
    "        cv2.imwrite(dest_img_path, img)\n",
    "\n",
    "        # get the label file name and save the file\n",
    "        label_file_name = img_file_name.replace('.png', '.txt')\n",
    "        label_path = f\"{output_path}/labels/{split}/{label_file_name}\"\n",
    "        with open(label_path, \"w\") as f:\n",
    "            f.write(f\"{row['ClassId']} {x_center} {y_center} {bbox_width} {bbox_height}\\n\")"
   ]
  },
  {
   "cell_type": "code",
   "execution_count": 11,
   "metadata": {},
   "outputs": [],
   "source": [
    "# convert train and validation sets\n",
    "convert_to_yolo(train_df_resampled, \"train\")\n",
    "convert_to_yolo(val_df, \"val\")\n",
    "convert_to_yolo(test_df, \"test\")"
   ]
  },
  {
   "cell_type": "code",
   "execution_count": null,
   "metadata": {},
   "outputs": [],
   "source": []
  }
 ],
 "metadata": {
  "kaggle": {
   "accelerator": "none",
   "dataSources": [
    {
     "datasetId": 82373,
     "sourceId": 191501,
     "sourceType": "datasetVersion"
    }
   ],
   "dockerImageVersionId": 30839,
   "isGpuEnabled": false,
   "isInternetEnabled": true,
   "language": "python",
   "sourceType": "notebook"
  },
  "kernelspec": {
   "display_name": "Python 3 (ipykernel)",
   "language": "python",
   "name": "python3"
  },
  "language_info": {
   "codemirror_mode": {
    "name": "ipython",
    "version": 3
   },
   "file_extension": ".py",
   "mimetype": "text/x-python",
   "name": "python",
   "nbconvert_exporter": "python",
   "pygments_lexer": "ipython3",
   "version": "3.12.8"
  }
 },
 "nbformat": 4,
 "nbformat_minor": 4
}
