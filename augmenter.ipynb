{
 "cells": [
  {
   "cell_type": "markdown",
   "id": "2f614ce3-a735-4a80-ad50-fdd753b260f9",
   "metadata": {},
   "source": [
    "# Applying YOLOv5s for Traffic Sign Recognition - Train Data Augmenter"
   ]
  },
  {
   "cell_type": "markdown",
   "id": "6784d444-c8bd-4249-9ef6-ed9bca34341e",
   "metadata": {},
   "source": [
    "This is the code used to augment train data to simulate real-world images"
   ]
  },
  {
   "cell_type": "code",
   "execution_count": 1,
   "id": "c2220664-7dd9-4a1e-8233-618ec3e4fd2c",
   "metadata": {},
   "outputs": [],
   "source": [
    "import cv2\n",
    "import os\n",
    "import numpy as np\n",
    "from tqdm import tqdm\n",
    "from sklearn.model_selection import train_test_split"
   ]
  },
  {
   "cell_type": "code",
   "execution_count": 2,
   "id": "7f02a7b5-145b-4bf0-80c2-f1fc62bae46e",
   "metadata": {},
   "outputs": [],
   "source": [
    "img_folder = \"data-yolo/images/train\"\n",
    "label_folder = \"data-yolo/labels/train\""
   ]
  },
  {
   "cell_type": "code",
   "execution_count": 3,
   "id": "89a2b582-67fe-4c44-8487-9427b4857912",
   "metadata": {},
   "outputs": [],
   "source": [
    "# function to place the sign in a random place on a canvas\n",
    "def resize_and_place(image, target_size=128):\n",
    "    # choose a random scale (size of the sign relative to image size)\n",
    "    h, w = image.shape[:2]\n",
    "    scale = np.random.uniform(0.05, 0.5)\n",
    "    new_w = int(target_size * scale)\n",
    "    new_h = min(target_size - 1, int((new_w / w) * h))\n",
    "    \n",
    "    # resize the sign\n",
    "    resized = cv2.resize(image, (new_w, new_h))\n",
    "\n",
    "    # place the sign randomly on a blank canvas\n",
    "    background = np.ones((target_size, target_size, 3), dtype=np.uint8) * 128  \n",
    "    x_offset = np.random.randint(0, target_size - new_w)\n",
    "    y_offset = np.random.randint(0, target_size - new_h)\n",
    "    background[y_offset : y_offset + new_h, x_offset : x_offset + new_w] = resized\n",
    "\n",
    "    # save normalized coordinates of the center of the image\n",
    "    x_center = (x_offset + new_w // 2) / target_size\n",
    "    y_center = (y_offset + new_h // 2) / target_size\n",
    "\n",
    "    # save normalized width and height\n",
    "    bbox_width = new_w / target_size\n",
    "    bbox_height = new_h / target_size\n",
    "    \n",
    "    return background, x_center, y_center, bbox_width, bbox_height"
   ]
  },
  {
   "cell_type": "code",
   "execution_count": 4,
   "id": "8fe210e2-332c-4d51-a5d7-13a2a1150beb",
   "metadata": {},
   "outputs": [],
   "source": [
    "train_images = os.listdir(img_folder)\n",
    "selected_for_augmentation, _ = train_test_split(train_images, test_size=0.5, random_state=42)"
   ]
  },
  {
   "cell_type": "code",
   "execution_count": 5,
   "id": "04a688c1-760c-4758-8acf-f6f510756455",
   "metadata": {},
   "outputs": [
    {
     "name": "stderr",
     "output_type": "stream",
     "text": [
      "100%|████████████████████████████████████████████████████████████████████████████| 38700/38700 [07:29<00:00, 86.14it/s]\n"
     ]
    }
   ],
   "source": [
    "for img_name in tqdm(selected_for_augmentation):\n",
    "    # read image\n",
    "    img_path = os.path.join(img_folder, img_name)\n",
    "    img = cv2.imread(img_path)\n",
    "\n",
    "    # write the augmented image\n",
    "    augmented_img, x_center, y_center, bbox_width, bbox_height = resize_and_place(img)\n",
    "    cv2.imwrite(img_path, augmented_img)\n",
    "\n",
    "    # write the corresponding label\n",
    "    label_name = img_name.replace('.png', '.txt')\n",
    "    label_path = os.path.join(label_folder, label_name)\n",
    "    with open(label_path, \"r\") as f:\n",
    "        class_label = f.readline().strip().split()[0]\n",
    "    \n",
    "    with open(label_path, \"w\") as f:\n",
    "        f.write(f\"{class_label} {x_center} {y_center} {bbox_width} {bbox_height}\\n\")"
   ]
  },
  {
   "cell_type": "code",
   "execution_count": null,
   "id": "0f3cdaf9-aa80-4b20-9024-be6c092b3c93",
   "metadata": {},
   "outputs": [],
   "source": []
  }
 ],
 "metadata": {
  "kernelspec": {
   "display_name": "Python 3 (ipykernel)",
   "language": "python",
   "name": "python3"
  },
  "language_info": {
   "codemirror_mode": {
    "name": "ipython",
    "version": 3
   },
   "file_extension": ".py",
   "mimetype": "text/x-python",
   "name": "python",
   "nbconvert_exporter": "python",
   "pygments_lexer": "ipython3",
   "version": "3.12.8"
  }
 },
 "nbformat": 4,
 "nbformat_minor": 5
}
